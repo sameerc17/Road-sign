{
 "cells": [
  {
   "cell_type": "code",
   "execution_count": 1,
   "metadata": {},
   "outputs": [],
   "source": [
    "import os\n",
    "import cv2\n",
    "from PIL import Image\n",
    "import pandas as pd\n",
    "import numpy as np\n",
    "import random\n",
    "import tensorflow as tf\n",
    "import tensorflow.keras as keras\n",
    "from tensorflow.keras.layers import Flatten, Conv2D, MaxPooling2D, Dropout, Dense,AveragePooling2D\n",
    "from tensorflow.keras.utils import to_categorical\n",
    "from sklearn.model_selection import train_test_split"
   ]
  },
  {
   "cell_type": "code",
   "execution_count": 2,
   "metadata": {},
   "outputs": [
    {
     "name": "stdout",
     "output_type": "stream",
     "text": [
      "['train', 'test', 'Train.csv', 'Test.csv']\n"
     ]
    }
   ],
   "source": [
    "import os\n",
    "print(os.listdir('short'))"
   ]
  },
  {
   "cell_type": "code",
   "execution_count": 3,
   "metadata": {},
   "outputs": [
    {
     "name": "stdout",
     "output_type": "stream",
     "text": [
      "images/train/0/\n",
      "images/train/1/\n",
      "images/train/2/\n",
      "images/train/3/\n",
      "images/train/4/\n",
      "images/train/5/\n",
      "images/train/6/\n",
      "images/train/7/\n",
      "images/train/8/\n",
      "images/train/9/\n",
      "images/train/10/\n",
      "images/train/11/\n",
      "images/train/12/\n",
      "images/train/13/\n",
      "images/train/14/\n",
      "images/train/15/\n",
      "images/train/16/\n",
      "images/train/17/\n",
      "images/train/18/\n",
      "images/train/19/\n",
      "images/train/20/\n",
      "images/train/21/\n",
      "images/train/22/\n",
      "images/train/23/\n",
      "images/train/24/\n",
      "images/train/25/\n",
      "images/train/26/\n",
      "images/train/27/\n",
      "images/train/28/\n",
      "images/train/29/\n",
      "images/train/30/\n",
      "images/train/31/\n",
      "images/train/32/\n",
      "images/train/33/\n",
      "images/train/34/\n",
      "images/train/35/\n",
      "images/train/36/\n",
      "images/train/37/\n",
      "images/train/38/\n",
      "images/train/39/\n",
      "images/train/40/\n",
      "images/train/41/\n",
      "images/train/42/\n"
     ]
    }
   ],
   "source": [
    "# Reading the input images and putting them into a numpy array\n",
    "data=[]\n",
    "labels=[]\n",
    "height = 32\n",
    "width =32\n",
    "channels = 3\n",
    "num_classes = 43\n",
    "n_inputs = height * width*channels\n",
    "for i in range(num_classes) :\n",
    "    s=\"images/train/{0}/\".format(i)\n",
    "    print(s)\n",
    "    imageset=os.listdir(s)\n",
    "    for imgs  in imageset:\n",
    "        image=cv2.imread(s+imgs)\n",
    "        i_array = Image.fromarray(image, 'RGB')\n",
    "        size = i_array.resize((height, width))\n",
    "        data.append(np.array(size))\n",
    "        labels.append(i)"
   ]
  },
  {
   "cell_type": "code",
   "execution_count": 4,
   "metadata": {},
   "outputs": [],
   "source": [
    "x_train=np.array(data)\n",
    "x_train= x_train/255.0\n",
    "y_train=np.array(labels)\n",
    "y_train=keras.utils.to_categorical(y_train,num_classes)"
   ]
  },
  {
   "cell_type": "code",
   "execution_count": 5,
   "metadata": {},
   "outputs": [
    {
     "name": "stdout",
     "output_type": "stream",
     "text": [
      "Train : (33327, 32, 32, 3)\n",
      "Test : (5882, 32, 32, 3)\n"
     ]
    }
   ],
   "source": [
    "# Spli|t Data\n",
    "X_train,X_test,Y_train,Y_test = train_test_split(x_train,y_train,test_size = 0.15,random_state=0)\n",
    "print(\"Train :\", X_train.shape)\n",
    "print(\"Test :\", X_test.shape)"
   ]
  },
  {
   "cell_type": "code",
   "execution_count": 6,
   "metadata": {},
   "outputs": [
    {
     "name": "stdout",
     "output_type": "stream",
     "text": [
      "Model: \"sequential\"\n",
      "_________________________________________________________________\n",
      "Layer (type)                 Output Shape              Param #   \n",
      "=================================================================\n",
      "conv2d (Conv2D)              (None, 28, 28, 6)         456       \n",
      "_________________________________________________________________\n",
      "average_pooling2d (AveragePo (None, 14, 14, 6)         0         \n",
      "_________________________________________________________________\n",
      "conv2d_1 (Conv2D)            (None, 10, 10, 16)        2416      \n",
      "_________________________________________________________________\n",
      "average_pooling2d_1 (Average (None, 5, 5, 16)          0         \n",
      "_________________________________________________________________\n",
      "flatten (Flatten)            (None, 400)               0         \n",
      "_________________________________________________________________\n",
      "dense (Dense)                (None, 120)               48120     \n",
      "_________________________________________________________________\n",
      "dense_1 (Dense)              (None, 84)                10164     \n",
      "_________________________________________________________________\n",
      "dense_2 (Dense)              (None, 43)                3655      \n",
      "=================================================================\n",
      "Total params: 64,811\n",
      "Trainable params: 64,811\n",
      "Non-trainable params: 0\n",
      "_________________________________________________________________\n"
     ]
    }
   ],
   "source": [
    "# Build Model\n",
    "\n",
    "model = keras.Sequential()\n",
    "model.add(Conv2D(filters=6, kernel_size=(5,5), activation='tanh', input_shape=X_train.shape[1:]))\n",
    "model.add(AveragePooling2D(pool_size=(2, 2)))\n",
    "model.add(Conv2D(filters=16, kernel_size=(5,5), activation='tanh'))\n",
    "model.add(AveragePooling2D(pool_size=(2, 2)))\n",
    "model.add(Flatten())\n",
    "model.add(Dense(120, activation='tanh'))\n",
    "model.add(Dense(84, activation='tanh'))\n",
    "model.add(Dense(43, activation = 'softmax'))\n",
    "model.summary()\n"
   ]
  },
  {
   "cell_type": "code",
   "execution_count": 7,
   "metadata": {},
   "outputs": [],
   "source": [
    "model.compile(loss='categorical_crossentropy', optimizer='adam', metrics=['accuracy'])"
   ]
  },
  {
   "cell_type": "code",
   "execution_count": 8,
   "metadata": {},
   "outputs": [
    {
     "name": "stdout",
     "output_type": "stream",
     "text": [
      "Epoch 1/15\n",
      "521/521 [==============================] - 17s 33ms/step - loss: 1.2537 - accuracy: 0.6756 - val_loss: 0.4066 - val_accuracy: 0.8995\n",
      "Epoch 2/15\n",
      "521/521 [==============================] - 16s 30ms/step - loss: 0.2837 - accuracy: 0.9316 - val_loss: 0.1966 - val_accuracy: 0.9529\n",
      "Epoch 3/15\n",
      "521/521 [==============================] - 16s 30ms/step - loss: 0.1554 - accuracy: 0.9639 - val_loss: 0.1250 - val_accuracy: 0.9721\n",
      "Epoch 4/15\n",
      "521/521 [==============================] - 16s 31ms/step - loss: 0.1014 - accuracy: 0.9779 - val_loss: 0.1061 - val_accuracy: 0.9738\n",
      "Epoch 5/15\n",
      "521/521 [==============================] - 16s 31ms/step - loss: 0.0726 - accuracy: 0.9847 - val_loss: 0.0894 - val_accuracy: 0.9770\n",
      "Epoch 6/15\n",
      "521/521 [==============================] - 16s 31ms/step - loss: 0.0504 - accuracy: 0.9902 - val_loss: 0.0707 - val_accuracy: 0.9835\n",
      "Epoch 7/15\n",
      "521/521 [==============================] - 16s 31ms/step - loss: 0.0378 - accuracy: 0.9924 - val_loss: 0.0656 - val_accuracy: 0.9835\n",
      "Epoch 8/15\n",
      "521/521 [==============================] - 16s 31ms/step - loss: 0.0283 - accuracy: 0.9950 - val_loss: 0.0641 - val_accuracy: 0.9849\n",
      "Epoch 9/15\n",
      "521/521 [==============================] - 16s 32ms/step - loss: 0.0199 - accuracy: 0.9970 - val_loss: 0.0726 - val_accuracy: 0.9810\n",
      "Epoch 10/15\n",
      "521/521 [==============================] - 16s 32ms/step - loss: 0.0158 - accuracy: 0.9974 - val_loss: 0.0624 - val_accuracy: 0.9845\n",
      "Epoch 11/15\n",
      "521/521 [==============================] - 16s 32ms/step - loss: 0.0172 - accuracy: 0.9967 - val_loss: 0.0536 - val_accuracy: 0.9871\n",
      "Epoch 12/15\n",
      "521/521 [==============================] - 17s 33ms/step - loss: 0.0071 - accuracy: 0.9995 - val_loss: 0.0479 - val_accuracy: 0.9889\n",
      "Epoch 13/15\n",
      "521/521 [==============================] - 16s 31ms/step - loss: 0.0048 - accuracy: 0.9996 - val_loss: 0.0648 - val_accuracy: 0.9833\n",
      "Epoch 14/15\n",
      "521/521 [==============================] - 16s 31ms/step - loss: 0.0217 - accuracy: 0.9944 - val_loss: 0.0567 - val_accuracy: 0.9850\n",
      "Epoch 15/15\n",
      "521/521 [==============================] - 16s 31ms/step - loss: 0.0095 - accuracy: 0.9979 - val_loss: 0.0559 - val_accuracy: 0.9861\n"
     ]
    }
   ],
   "source": [
    "# Train Model\n",
    "epochs =15\n",
    "history = model.fit(X_train, Y_train, validation_data=(X_test,Y_test), batch_size=64, epochs=epochs,shuffle=True)"
   ]
  },
  {
   "cell_type": "code",
   "execution_count": 11,
   "metadata": {},
   "outputs": [
    {
     "data": {
      "text/plain": [
       "<matplotlib.legend.Legend at 0x7f7a60eb58e0>"
      ]
     },
     "execution_count": 11,
     "metadata": {},
     "output_type": "execute_result"
    },
    {
     "data": {
      "image/png": "[encoded data removed]",
      "text/plain": [
       "<Figure size 432x288 with 1 Axes>"
      ]
     },
     "metadata": {
      "needs_background": "light"
     },
     "output_type": "display_data"
    },
    {
     "data": {
      "image/png": "[encoded data removed]",
      "text/plain": [
       "<Figure size 432x288 with 1 Axes>"
      ]
     },
     "metadata": {
      "needs_background": "light"
     },
     "output_type": "display_data"
    }
   ],
   "source": [
    "import matplotlib.pyplot as plt\n",
    "from keras import models\n",
    "\n",
    "plt.figure(0)\n",
    "plt.plot(history.history['accuracy'], label='training accuracy')\n",
    "plt.plot(history.history['val_accuracy'], label='val accuracy')\n",
    "plt.title('Accuracy')\n",
    "plt.xlabel('epochs')\n",
    "plt.ylabel('accuracy')\n",
    "plt.legend()\n",
    "\n",
    "plt.figure(1)\n",
    "plt.plot(history.history['loss'], label='training loss')\n",
    "plt.plot(history.history['val_loss'], label='val loss')\n",
    "plt.title('Loss')\n",
    "plt.xlabel('epochs')\n",
    "plt.ylabel('loss')\n",
    "plt.legend()"
   ]
  },
  {
   "cell_type": "code",
   "execution_count": 12,
   "metadata": {},
   "outputs": [
    {
     "name": "stdout",
     "output_type": "stream",
     "text": [
      "12630\n"
     ]
    }
   ],
   "source": [
    "# Predicting Test data \n",
    "y_test=pd.read_csv(\"images/Test.csv\")\n",
    "labels=y_test['Path'].to_numpy()\n",
    "y_test=y_test['ClassId'].values\n",
    "\n",
    "data=[]\n",
    "\n",
    "for f in labels:\n",
    "    image=cv2.imread('images/test/'+f.replace('Test/', ''))\n",
    "    image_from_array = Image.fromarray(image, 'RGB')\n",
    "    size_image = image_from_array.resize((height, width))\n",
    "    data.append(np.array(size_image))\n",
    "\n",
    "print(len(data))\n",
    "X_test=np.array(data)\n",
    "X_test = X_test.astype('float32')/255  \n",
    "pred = np.argmax(model.predict(X_test), axis=-1)"
   ]
  },
  {
   "cell_type": "code",
   "execution_count": 17,
   "metadata": {},
   "outputs": [
    {
     "name": "stdout",
     "output_type": "stream",
     "text": [
      "Accuracy  91.43309580364212\n",
      "Precision  91.61797836936123\n",
      "F1 score  91.41130997527164\n"
     ]
    }
   ],
   "source": [
    "# Accuracy with the test data\n",
    "from sklearn.metrics import accuracy_score\n",
    "acc=accuracy_score(y_test, pred)\n",
    "print('Accuracy ',acc*100.00)\n",
    "from sklearn.metrics import precision_score\n",
    "pre=precision_score(y_test, pred, average='weighted')\n",
    "print('Precision ',pre*100)\n",
    "from sklearn.metrics import f1_score\n",
    "f1=f1_score(y_test, pred, average='weighted')\n",
    "print('F1 score ',f1*100)"
   ]
  },
  {
   "cell_type": "code",
   "execution_count": 14,
   "metadata": {},
   "outputs": [
    {
     "name": "stdout",
     "output_type": "stream",
     "text": [
      "Train image\n"
     ]
    },
    {
     "data": {
      "image/png": "[encoded data removed]",
      "text/plain": [
       "<Figure size 432x288 with 1 Axes>"
      ]
     },
     "metadata": {
      "needs_background": "light"
     },
     "output_type": "display_data"
    },
    {
     "name": "stdout",
     "output_type": "stream",
     "text": [
      "Size of this image is (32, 32, 3)\n"
     ]
    }
   ],
   "source": [
    "# Show images\n",
    "import matplotlib.pyplot as plt\n",
    "\n",
    "def display_images(image, label):\n",
    "        plt.axis('off')\n",
    "        plt.imshow(image)\n",
    "        plt.show()       \n",
    "        print(\"Size of this image is \" + str(image.shape))\n",
    "#         print(\"Class of the image is \" + str(labels))\n",
    "\n",
    "print(\"Train image\")\n",
    "display_images(X_train[2], Y_train[2])"
   ]
  },
  {
   "cell_type": "code",
   "execution_count": 15,
   "metadata": {},
   "outputs": [],
   "source": [
    "signs=[\n",
    "    \"Speed limit 20\",\n",
    "    \"Speed limit 30\",\n",
    "    \"Speed limit 50\",\n",
    "    \"Speed limit 60\",\n",
    "    \"Speed limit 70\",\n",
    "    \"Speed limit 80\",\n",
    "    \"Speed limit 90\",\n",
    "    \"Speed limit 100\",\n",
    "    \"Speed limit 120\",\n",
    "    \"No passing\",\n",
    "    \"No passing for vechiles over 3.5 metric tons\",\n",
    "    \"Right-of-way at the next intersection\",\n",
    "    \"Priority road\",\n",
    "    \"Yield\",\n",
    "    \"Stop\",\n",
    "    \"No vehicles\",\n",
    "    \"Vehicles over 3.5 metric tons prohibited\",\n",
    "    \"No entry\",\n",
    "    \"General caution\",\n",
    "    \"Dangerous curve to the left\",\n",
    "    \"Dangerous curve to the right\",\n",
    "    \"Double curve\",\n",
    "    \"Bumpy road\",\n",
    "    \"Slippery road\",\n",
    "    \"Road narrows on the right\",\n",
    "    \"Road work\",\n",
    "    \"Traffic signals\",\n",
    "    \"Pedestrians\",\n",
    "    \"Children crossing\",\n",
    "    \"Bicycles crossing\",\n",
    "    \"Beware of ice/snow\",\n",
    "    \"Wild animals crossing\",\n",
    "    \"End of all speed and passing limits\",\n",
    "    \"Turn right ahead\",\n",
    "    \"Turn left ahead\",\n",
    "    \"Ahead only\",\n",
    "    \"Go straight or right\",\n",
    "    \"Go straight or left\",\n",
    "    \"Keep right\",\n",
    "    \"Keep left\",\n",
    "    \"Roundabout mandatory\",\n",
    "    \"End of no passing\",\n",
    "    \"End of no passing by vechiles over 3.5 metric tons\"\n",
    "]"
   ]
  },
  {
   "cell_type": "code",
   "execution_count": 16,
   "metadata": {},
   "outputs": [
    {
     "name": "stdout",
     "output_type": "stream",
     "text": [
      "The sign says :Yield\n"
     ]
    },
    {
     "data": {
      "image/png": "[encoded data removed]",
      "text/plain": [
       "<Figure size 432x288 with 1 Axes>"
      ]
     },
     "metadata": {
      "needs_background": "light"
     },
     "output_type": "display_data"
    },
    {
     "name": "stdout",
     "output_type": "stream",
     "text": [
      "Size of this image is (32, 32, 3)\n",
      "Model predicted :Yield\n"
     ]
    }
   ],
   "source": [
    "rn=int(random.random()*len(X_test))\n",
    "print(\"The sign says \",signs[y_test[rn]],sep=':')\n",
    "display_images(X_test[rn],y_test[rn])\n",
    "print(\"Model predicted \",signs[pred[rn]],sep=':')"
   ]
  },
  {
   "cell_type": "code",
   "execution_count": null,
   "metadata": {},
   "outputs": [],
   "source": []
  }
 ],
 "metadata": {
  "kernelspec": {
   "display_name": "Python 3",
   "language": "python",
   "name": "python3"
  },
  "language_info": {
   "codemirror_mode": {
    "name": "ipython",
    "version": 3
   },
   "file_extension": ".py",
   "mimetype": "text/x-python",
   "name": "python",
   "nbconvert_exporter": "python",
   "pygments_lexer": "ipython3",
   "version": "3.8.2"
  }
 },
 "nbformat": 4,
 "nbformat_minor": 4
}
