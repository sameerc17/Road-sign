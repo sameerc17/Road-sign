{
 "cells": [
  {
   "cell_type": "code",
   "execution_count": 1,
   "metadata": {},
   "outputs": [],
   "source": [
    "import os\n",
    "import cv2\n",
    "from PIL import Image\n",
    "import pandas as pd\n",
    "import numpy as np\n",
    "import random\n",
    "import tensorflow as tf\n",
    "import tensorflow.keras as keras\n",
    "from tensorflow.keras.layers import Flatten, Conv2D, MaxPooling2D, Dropout, Dense,AveragePooling2D\n",
    "from tensorflow.keras.utils import to_categorical\n",
    "from sklearn.model_selection import train_test_split"
   ]
  },
  {
   "cell_type": "code",
   "execution_count": 2,
   "metadata": {},
   "outputs": [
    {
     "name": "stdout",
     "output_type": "stream",
     "text": [
      "['train', 'test', 'Train.csv', 'Test.csv']\n"
     ]
    }
   ],
   "source": [
    "import os\n",
    "print(os.listdir('short'))"
   ]
  },
  {
   "cell_type": "code",
   "execution_count": 3,
   "metadata": {},
   "outputs": [
    {
     "name": "stdout",
     "output_type": "stream",
     "text": [
      "images/train/0/\n",
      "images/train/1/\n",
      "images/train/2/\n",
      "images/train/3/\n",
      "images/train/4/\n",
      "images/train/5/\n",
      "images/train/6/\n",
      "images/train/7/\n",
      "images/train/8/\n",
      "images/train/9/\n",
      "images/train/10/\n",
      "images/train/11/\n",
      "images/train/12/\n",
      "images/train/13/\n",
      "images/train/14/\n",
      "images/train/15/\n",
      "images/train/16/\n",
      "images/train/17/\n",
      "images/train/18/\n",
      "images/train/19/\n",
      "images/train/20/\n",
      "images/train/21/\n",
      "images/train/22/\n",
      "images/train/23/\n",
      "images/train/24/\n",
      "images/train/25/\n",
      "images/train/26/\n",
      "images/train/27/\n",
      "images/train/28/\n",
      "images/train/29/\n",
      "images/train/30/\n",
      "images/train/31/\n",
      "images/train/32/\n",
      "images/train/33/\n",
      "images/train/34/\n",
      "images/train/35/\n",
      "images/train/36/\n",
      "images/train/37/\n",
      "images/train/38/\n",
      "images/train/39/\n",
      "images/train/40/\n",
      "images/train/41/\n",
      "images/train/42/\n"
     ]
    }
   ],
   "source": [
    "# Reading the input images and putting them into a numpy array\n",
    "data=[]\n",
    "labels=[]\n",
    "height = 32\n",
    "width =32\n",
    "channels = 3\n",
    "num_classes = 43\n",
    "n_inputs = height * width*channels\n",
    "for i in range(num_classes) :\n",
    "    s=\"images/train/{0}/\".format(i)\n",
    "    print(s)\n",
    "    imageset=os.listdir(s)\n",
    "    for imgs  in imageset:\n",
    "        image=cv2.imread(s+imgs)\n",
    "        i_array = Image.fromarray(image, 'RGB')\n",
    "        size = i_array.resize((height, width))\n",
    "        data.append(np.array(size))\n",
    "        labels.append(i)"
   ]
  },
  {
   "cell_type": "code",
   "execution_count": 4,
   "metadata": {},
   "outputs": [],
   "source": [
    "x_train=np.array(data)\n",
    "x_train= x_train/255.0\n",
    "y_train=np.array(labels)\n",
    "y_train=keras.utils.to_categorical(y_train,num_classes)"
   ]
  },
  {
   "cell_type": "code",
   "execution_count": 5,
   "metadata": {},
   "outputs": [
    {
     "name": "stdout",
     "output_type": "stream",
     "text": [
      "Train : (33327, 32, 32, 3)\n",
      "Test : (5882, 32, 32, 3)\n"
     ]
    }
   ],
   "source": [
    "# Spli|t Data\n",
    "X_train,X_test,Y_train,Y_test = train_test_split(x_train,y_train,test_size = 0.15,random_state=0)\n",
    "print(\"Train :\", X_train.shape)\n",
    "print(\"Test :\", X_test.shape)"
   ]
  },
  {
   "cell_type": "code",
   "execution_count": 6,
   "metadata": {},
   "outputs": [
    {
     "name": "stdout",
     "output_type": "stream",
     "text": [
      "Model: \"sequential\"\n",
      "_________________________________________________________________\n",
      "Layer (type)                 Output Shape              Param #   \n",
      "=================================================================\n",
      "conv2d (Conv2D)              (None, 28, 28, 6)         456       \n",
      "_________________________________________________________________\n",
      "max_pooling2d (MaxPooling2D) (None, 14, 14, 6)         0         \n",
      "_________________________________________________________________\n",
      "dropout (Dropout)            (None, 14, 14, 6)         0         \n",
      "_________________________________________________________________\n",
      "conv2d_1 (Conv2D)            (None, 10, 10, 16)        2416      \n",
      "_________________________________________________________________\n",
      "max_pooling2d_1 (MaxPooling2 (None, 5, 5, 16)          0         \n",
      "_________________________________________________________________\n",
      "dropout_1 (Dropout)          (None, 5, 5, 16)          0         \n",
      "_________________________________________________________________\n",
      "flatten (Flatten)            (None, 400)               0         \n",
      "_________________________________________________________________\n",
      "dense (Dense)                (None, 120)               48120     \n",
      "_________________________________________________________________\n",
      "dropout_2 (Dropout)          (None, 120)               0         \n",
      "_________________________________________________________________\n",
      "dense_1 (Dense)              (None, 43)                5203      \n",
      "=================================================================\n",
      "Total params: 56,195\n",
      "Trainable params: 56,195\n",
      "Non-trainable params: 0\n",
      "_________________________________________________________________\n"
     ]
    }
   ],
   "source": [
    "# Build Model\n",
    "\n",
    "model = keras.Sequential()\n",
    "model.add(Conv2D(filters=6, kernel_size=(5,5), activation='relu', input_shape=X_train.shape[1:]))\n",
    "model.add(MaxPooling2D(pool_size=(2, 2)))\n",
    "model.add(Dropout(rate=0.2))\n",
    "model.add(Conv2D(filters=16, kernel_size=(5,5), activation='relu'))\n",
    "model.add(MaxPooling2D(pool_size=(2, 2)))\n",
    "model.add(Dropout(rate=0.2))\n",
    "model.add(Flatten())\n",
    "model.add(Dense(120, activation='relu'))\n",
    "model.add(Dropout(rate=0.2))\n",
    "model.add(Dense(43, activation = 'softmax'))\n",
    "model.summary()\n"
   ]
  },
  {
   "cell_type": "code",
   "execution_count": 7,
   "metadata": {},
   "outputs": [],
   "source": [
    "model.compile(loss='categorical_crossentropy', optimizer='adam', metrics=['accuracy'])"
   ]
  },
  {
   "cell_type": "code",
   "execution_count": 8,
   "metadata": {},
   "outputs": [
    {
     "name": "stdout",
     "output_type": "stream",
     "text": [
      "Epoch 1/15\n",
      "521/521 [==============================] - 17s 33ms/step - loss: 1.8783 - accuracy: 0.4873 - val_loss: 0.5981 - val_accuracy: 0.8660\n",
      "Epoch 2/15\n",
      "521/521 [==============================] - 17s 33ms/step - loss: 0.6687 - accuracy: 0.7981 - val_loss: 0.2902 - val_accuracy: 0.9410\n",
      "Epoch 3/15\n",
      "521/521 [==============================] - 17s 32ms/step - loss: 0.4472 - accuracy: 0.8676 - val_loss: 0.1839 - val_accuracy: 0.9646\n",
      "Epoch 4/15\n",
      "521/521 [==============================] - 17s 32ms/step - loss: 0.3517 - accuracy: 0.8930 - val_loss: 0.1341 - val_accuracy: 0.9748\n",
      "Epoch 5/15\n",
      "521/521 [==============================] - 17s 32ms/step - loss: 0.2873 - accuracy: 0.9150 - val_loss: 0.1054 - val_accuracy: 0.9796\n",
      "Epoch 6/15\n",
      "521/521 [==============================] - 17s 32ms/step - loss: 0.2503 - accuracy: 0.9252 - val_loss: 0.0867 - val_accuracy: 0.9799\n",
      "Epoch 7/15\n",
      "521/521 [==============================] - 17s 32ms/step - loss: 0.2180 - accuracy: 0.9350 - val_loss: 0.0765 - val_accuracy: 0.9835\n",
      "Epoch 8/15\n",
      "521/521 [==============================] - 17s 32ms/step - loss: 0.1945 - accuracy: 0.9407 - val_loss: 0.0652 - val_accuracy: 0.9867\n",
      "Epoch 9/15\n",
      "521/521 [==============================] - 17s 32ms/step - loss: 0.1788 - accuracy: 0.9450 - val_loss: 0.0566 - val_accuracy: 0.9866\n",
      "Epoch 10/15\n",
      "521/521 [==============================] - 17s 32ms/step - loss: 0.1650 - accuracy: 0.9496 - val_loss: 0.0536 - val_accuracy: 0.9866\n",
      "Epoch 11/15\n",
      "521/521 [==============================] - 17s 33ms/step - loss: 0.1548 - accuracy: 0.9527 - val_loss: 0.0547 - val_accuracy: 0.9867\n",
      "Epoch 12/15\n",
      "521/521 [==============================] - 17s 32ms/step - loss: 0.1430 - accuracy: 0.9545 - val_loss: 0.0540 - val_accuracy: 0.9861\n",
      "Epoch 13/15\n",
      "521/521 [==============================] - 17s 33ms/step - loss: 0.1354 - accuracy: 0.9583 - val_loss: 0.0467 - val_accuracy: 0.9905\n",
      "Epoch 14/15\n",
      "521/521 [==============================] - 17s 32ms/step - loss: 0.1336 - accuracy: 0.9584 - val_loss: 0.0420 - val_accuracy: 0.9895\n",
      "Epoch 15/15\n",
      "521/521 [==============================] - 17s 33ms/step - loss: 0.1226 - accuracy: 0.9614 - val_loss: 0.0414 - val_accuracy: 0.9895\n"
     ]
    }
   ],
   "source": [
    "# Train Model\n",
    "epochs =15\n",
    "history = model.fit(X_train, Y_train, validation_data=(X_test,Y_test), batch_size=64, epochs=epochs,shuffle=True)"
   ]
  },
  {
   "cell_type": "code",
   "execution_count": 9,
   "metadata": {},
   "outputs": [
    {
     "name": "stderr",
     "output_type": "stream",
     "text": [
      "Using TensorFlow backend.\n"
     ]
    },
    {
     "data": {
      "text/plain": [
       "<matplotlib.legend.Legend at 0x7ff03d2c25b0>"
      ]
     },
     "execution_count": 9,
     "metadata": {},
     "output_type": "execute_result"
    },
    {
     "data": {
      "image/png": "[encoded data removed]",
      "text/plain": [
       "<Figure size 432x288 with 1 Axes>"
      ]
     },
     "metadata": {
      "needs_background": "light"
     },
     "output_type": "display_data"
    },
    {
     "data": {
      "image/png": "[encoded data removed]",
      "text/plain": [
       "<Figure size 432x288 with 1 Axes>"
      ]
     },
     "metadata": {
      "needs_background": "light"
     },
     "output_type": "display_data"
    }
   ],
   "source": [
    "import matplotlib.pyplot as plt\n",
    "from keras import models\n",
    "\n",
    "plt.figure(0)\n",
    "plt.plot(history.history['accuracy'], label='training accuracy')\n",
    "plt.plot(history.history['val_accuracy'], label='val accuracy')\n",
    "plt.title('Accuracy')\n",
    "plt.xlabel('epochs')\n",
    "plt.ylabel('accuracy')\n",
    "plt.legend()\n",
    "\n",
    "plt.figure(1)\n",
    "plt.plot(history.history['loss'], label='training loss')\n",
    "plt.plot(history.history['val_loss'], label='val loss')\n",
    "plt.title('Loss')\n",
    "plt.xlabel('epochs')\n",
    "plt.ylabel('loss')\n",
    "plt.legend()"
   ]
  },
  {
   "cell_type": "code",
   "execution_count": 10,
   "metadata": {},
   "outputs": [
    {
     "name": "stdout",
     "output_type": "stream",
     "text": [
      "12630\n"
     ]
    }
   ],
   "source": [
    "# Predicting Test data \n",
    "y_test=pd.read_csv(\"images/Test.csv\")\n",
    "labels=y_test['Path'].to_numpy()\n",
    "y_test=y_test['ClassId'].values\n",
    "\n",
    "data=[]\n",
    "\n",
    "for f in labels:\n",
    "    image=cv2.imread('images/test/'+f.replace('Test/', ''))\n",
    "    image_from_array = Image.fromarray(image, 'RGB')\n",
    "    size_image = image_from_array.resize((height, width))\n",
    "    data.append(np.array(size_image))\n",
    "\n",
    "print(len(data))\n",
    "X_test=np.array(data)\n",
    "X_test = X_test.astype('float32')/255  \n",
    "pred = np.argmax(model.predict(X_test), axis=-1)"
   ]
  },
  {
   "cell_type": "code",
   "execution_count": 26,
   "metadata": {},
   "outputs": [
    {
     "name": "stdout",
     "output_type": "stream",
     "text": [
      "Accuracy  94.73475851148059\n",
      "Precision  95.06496540241575\n",
      "F1 score  94.66935128110691\n"
     ]
    }
   ],
   "source": [
    "# Accuracy with the test data\n",
    "from sklearn.metrics import accuracy_score\n",
    "acc=accuracy_score(y_test, pred)\n",
    "print('Accuracy ',acc*100.00)\n",
    "from sklearn.metrics import precision_score\n",
    "pre=precision_score(y_test, pred, average='weighted')\n",
    "print('Precision ',pre*100)\n",
    "from sklearn.metrics import f1_score\n",
    "f1=f1_score(y_test, pred, average='weighted')\n",
    "print('F1 score ',f1*100)"
   ]
  },
  {
   "cell_type": "code",
   "execution_count": 16,
   "metadata": {},
   "outputs": [
    {
     "name": "stdout",
     "output_type": "stream",
     "text": [
      "Train image\n"
     ]
    },
    {
     "data": {
      "image/png": "[encoded data removed]",
      "text/plain": [
       "<Figure size 432x288 with 1 Axes>"
      ]
     },
     "metadata": {
      "needs_background": "light"
     },
     "output_type": "display_data"
    },
    {
     "name": "stdout",
     "output_type": "stream",
     "text": [
      "Size of this image is (32, 32, 3)\n"
     ]
    }
   ],
   "source": [
    "# Show images\n",
    "import matplotlib.pyplot as plt\n",
    "\n",
    "def display_images(image, label):\n",
    "        plt.axis('off')\n",
    "        plt.imshow(image)\n",
    "        plt.show()       \n",
    "        print(\"Size of this image is \" + str(image.shape))\n",
    "#         print(\"Class of the image is \" + str(labels))\n",
    "\n",
    "print(\"Train image\")\n",
    "display_images(X_train[2], Y_train[2])"
   ]
  },
  {
   "cell_type": "code",
   "execution_count": 17,
   "metadata": {},
   "outputs": [],
   "source": [
    "signs=[\n",
    "    \"Speed limit 20\",\n",
    "    \"Speed limit 30\",\n",
    "    \"Speed limit 50\",\n",
    "    \"Speed limit 60\",\n",
    "    \"Speed limit 70\",\n",
    "    \"Speed limit 80\",\n",
    "    \"Speed limit 90\",\n",
    "    \"Speed limit 100\",\n",
    "    \"Speed limit 120\",\n",
    "    \"No passing\",\n",
    "    \"No passing for vechiles over 3.5 metric tons\",\n",
    "    \"Right-of-way at the next intersection\",\n",
    "    \"Priority road\",\n",
    "    \"Yield\",\n",
    "    \"Stop\",\n",
    "    \"No vehicles\",\n",
    "    \"Vehicles over 3.5 metric tons prohibited\",\n",
    "    \"No entry\",\n",
    "    \"General caution\",\n",
    "    \"Dangerous curve to the left\",\n",
    "    \"Dangerous curve to the right\",\n",
    "    \"Double curve\",\n",
    "    \"Bumpy road\",\n",
    "    \"Slippery road\",\n",
    "    \"Road narrows on the right\",\n",
    "    \"Road work\",\n",
    "    \"Traffic signals\",\n",
    "    \"Pedestrians\",\n",
    "    \"Children crossing\",\n",
    "    \"Bicycles crossing\",\n",
    "    \"Beware of ice/snow\",\n",
    "    \"Wild animals crossing\",\n",
    "    \"End of all speed and passing limits\",\n",
    "    \"Turn right ahead\",\n",
    "    \"Turn left ahead\",\n",
    "    \"Ahead only\",\n",
    "    \"Go straight or right\",\n",
    "    \"Go straight or left\",\n",
    "    \"Keep right\",\n",
    "    \"Keep left\",\n",
    "    \"Roundabout mandatory\",\n",
    "    \"End of no passing\",\n",
    "    \"End of no passing by vechiles over 3.5 metric tons\"\n",
    "]"
   ]
  },
  {
   "cell_type": "code",
   "execution_count": 20,
   "metadata": {},
   "outputs": [
    {
     "name": "stdout",
     "output_type": "stream",
     "text": [
      "The sign says :Turn left ahead\n"
     ]
    },
    {
     "data": {
      "image/png": "[encoded data removed]",
      "text/plain": [
       "<Figure size 432x288 with 1 Axes>"
      ]
     },
     "metadata": {
      "needs_background": "light"
     },
     "output_type": "display_data"
    },
    {
     "name": "stdout",
     "output_type": "stream",
     "text": [
      "Size of this image is (32, 32, 3)\n",
      "Model predicted :Turn left ahead\n"
     ]
    }
   ],
   "source": [
    "rn=int(random.random()*len(X_test))\n",
    "print(\"The sign says \",signs[y_test[rn]],sep=':')\n",
    "display_images(X_test[rn],y_test[rn])\n",
    "print(\"Model predicted \",signs[pred[rn]],sep=':')"
   ]
  },
  {
   "cell_type": "code",
   "execution_count": null,
   "metadata": {},
   "outputs": [],
   "source": []
  }
 ],
 "metadata": {
  "kernelspec": {
   "display_name": "Python 3",
   "language": "python",
   "name": "python3"
  },
  "language_info": {
   "codemirror_mode": {
    "name": "ipython",
    "version": 3
   },
   "file_extension": ".py",
   "mimetype": "text/x-python",
   "name": "python",
   "nbconvert_exporter": "python",
   "pygments_lexer": "ipython3",
   "version": "3.8.2"
  }
 },
 "nbformat": 4,
 "nbformat_minor": 4
}
